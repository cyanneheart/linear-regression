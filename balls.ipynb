{
 "cells": [
  {
   "cell_type": "code",
   "execution_count": 34,
   "id": "41e7cf3c-6418-4157-a680-ecf42689ea94",
   "metadata": {},
   "outputs": [],
   "source": [
    "import numpy as np\n",
    "import matplotlib.pyplot as plt\n",
    "import pandas as pd\n",
    "import seaborn as sns\n",
    "from sklearn.linear_model import LinearRegression\n",
    "%matplotlib inline"
   ]
  },
  {
   "cell_type": "code",
   "execution_count": 22,
   "id": "c51de39b-60b9-42c5-8708-197687fdbc52",
   "metadata": {
    "tags": []
   },
   "outputs": [],
   "source": [
    "data_set = pd.read_csv('data_set.csv');"
   ]
  },
  {
   "cell_type": "code",
   "execution_count": 35,
   "id": "ef1e99ae-8033-4528-9b5d-6f65762d7fb4",
   "metadata": {
    "tags": []
   },
   "outputs": [
    {
     "name": "stdin",
     "output_type": "stream",
     "text": [
      "Enter your height:  55\n"
     ]
    },
    {
     "name": "stdout",
     "output_type": "stream",
     "text": [
      "Predicted Weight:  87.01546143262225\n"
     ]
    }
   ],
   "source": [
    "x = data_set['Height(Inches)'].to_numpy()\n",
    "y = data_set['Weight(Pounds)']\n",
    "\n",
    "x = x.reshape(-1, 1)\n",
    "\n",
    "model = LinearRegression()\n",
    "model.fit(x,y)\n",
    "\n",
    "slope = model.coef_[0]\n",
    "intercept = model.intercept_\n",
    "\n",
    "height = int(input(\"Enter your height: \"))\n",
    "predicted_y = slope * height + intercept\n",
    "\n",
    "print(\"Predicted Weight: \", predicted_y)\n"
   ]
  },
  {
   "cell_type": "code",
   "execution_count": null,
   "id": "c45c4026-7afe-4ed0-a655-40ea5e857a30",
   "metadata": {},
   "outputs": [],
   "source": []
  }
 ],
 "metadata": {
  "kernelspec": {
   "display_name": "Python 3 (ipykernel)",
   "language": "python",
   "name": "python3"
  },
  "language_info": {
   "codemirror_mode": {
    "name": "ipython",
    "version": 3
   },
   "file_extension": ".py",
   "mimetype": "text/x-python",
   "name": "python",
   "nbconvert_exporter": "python",
   "pygments_lexer": "ipython3",
   "version": "3.11.5"
  }
 },
 "nbformat": 4,
 "nbformat_minor": 5
}
